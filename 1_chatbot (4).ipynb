{
  "nbformat": 4,
  "nbformat_minor": 0,
  "metadata": {
    "colab": {
      "name": "1.chatbot.ipynb",
      "provenance": [],
      "collapsed_sections": [
        "kWYO5Wiqhl0n"
      ],
      "toc_visible": true
    },
    "kernelspec": {
      "name": "python3",
      "display_name": "Python 3"
    },
    "accelerator": "GPU"
  },
  "cells": [
    {
      "cell_type": "markdown",
      "metadata": {
        "id": "kWYO5Wiqhl0n",
        "colab_type": "text"
      },
      "source": [
        "##0. Import Drive"
      ]
    },
    {
      "cell_type": "code",
      "metadata": {
        "id": "OoUdPJIwWxqW",
        "colab_type": "code",
        "colab": {}
      },
      "source": [
        "from google.colab import drive\n",
        "drive.mount('/content/drive')"
      ],
      "execution_count": 0,
      "outputs": []
    },
    {
      "cell_type": "markdown",
      "metadata": {
        "id": "q_JUupLzNhCF",
        "colab_type": "text"
      },
      "source": [
        "# 1. Train bot"
      ]
    },
    {
      "cell_type": "code",
      "metadata": {
        "id": "4BHFrQara7nX",
        "colab_type": "code",
        "colab": {}
      },
      "source": [
        "%tensorflow_version 1.x"
      ],
      "execution_count": 0,
      "outputs": []
    },
    {
      "cell_type": "code",
      "metadata": {
        "id": "QI4Jq4GIN3De",
        "colab_type": "code",
        "outputId": "c5bbc8e5-be11-49e8-97f6-8e7598471e67",
        "colab": {
          "base_uri": "https://localhost:8080/",
          "height": 84
        }
      },
      "source": [
        "import nltk\n",
        "nltk.download('punkt')\n",
        "nltk.download('wordnet')\n",
        "from nltk.stem import WordNetLemmatizer\n",
        "lemmatizer = WordNetLemmatizer()\n",
        "import json\n",
        "import pickle\n",
        "import numpy as np\n",
        "from keras.models import Sequential\n",
        "from keras.layers import Dense, Activation, Dropout\n",
        "from keras.optimizers import SGD\n",
        "import random"
      ],
      "execution_count": 119,
      "outputs": [
        {
          "output_type": "stream",
          "text": [
            "[nltk_data] Downloading package punkt to /root/nltk_data...\n",
            "[nltk_data]   Package punkt is already up-to-date!\n",
            "[nltk_data] Downloading package wordnet to /root/nltk_data...\n",
            "[nltk_data]   Package wordnet is already up-to-date!\n"
          ],
          "name": "stdout"
        }
      ]
    },
    {
      "cell_type": "code",
      "metadata": {
        "id": "rZoqlPi2Nw5Z",
        "colab_type": "code",
        "colab": {},
        "cellView": "code"
      },
      "source": [
        "#@title a : Train { run: \"auto\" }\n",
        "words=[]\n",
        "classes = []\n",
        "documents = []\n",
        "ignore_words = ['?', '!']\n",
        "data_file = open('/content/drive/My Drive/relinns_mohit/chatbot/intents.json').read()\n",
        "intents = json.loads(data_file)\n",
        "\n",
        "for intent in intents['intents']:\n",
        "    for pattern in intent['patterns']:\n",
        "        #tokenize each word\n",
        "        w = nltk.word_tokenize(pattern)\n",
        "        words.extend(w)\n",
        "        #add documents in the corpus\n",
        "        documents.append((w, intent['tag']))\n",
        "        # add to our classes list\n",
        "        if intent['tag'] not in classes:\n",
        "            classes.append(intent['tag'])\n",
        "\n",
        "# lemmaztize and lower each word and remove duplicates\n",
        "words = [lemmatizer.lemmatize(w.lower()) for w in words if w not in ignore_words]\n",
        "words = sorted(list(set(words)))\n",
        "# sort classes\n",
        "classes = sorted(list(set(classes)))\n",
        "# documents = combination between patterns and intents\n",
        "print (len(documents), \"documents\")\n",
        "# classes = intents\n",
        "print (len(classes), \"classes\", classes)\n",
        "# words = all words, vocabulary\n",
        "print (len(words), \"unique lemmatized words\", words)\n",
        "\n",
        "pickle.dump(words,open('words.pkl','wb'))\n",
        "pickle.dump(classes,open('classes.pkl','wb'))\n",
        "\n",
        "# create our training data\n",
        "training = []\n",
        "# create an empty array for our output\n",
        "output_empty = [0] * len(classes)\n",
        "# training set, bag of words for each sentence\n",
        "for doc in documents:\n",
        "    # initialize our bag of words\n",
        "    bag = []\n",
        "    # list of tokenized words for the pattern\n",
        "    pattern_words = doc[0]\n",
        "    # lemmatize each word - create base word, in attempt to represent related words\n",
        "    pattern_words = [lemmatizer.lemmatize(word.lower()) for word in pattern_words]\n",
        "    # create our bag of words array with 1, if word match found in current pattern\n",
        "    for w in words:\n",
        "        bag.append(1) if w in pattern_words else bag.append(0)\n",
        "    \n",
        "    # output is a '0' for each tag and '1' for current tag (for each pattern)\n",
        "    output_row = list(output_empty)\n",
        "    output_row[classes.index(doc[1])] = 1\n",
        "    \n",
        "    training.append([bag, output_row])\n",
        "# shuffle our features and turn into np.array\n",
        "random.shuffle(training)\n",
        "training = np.array(training)\n",
        "# create train and test lists. X - patterns, Y - intents\n",
        "train_x = list(training[:,0])\n",
        "train_y = list(training[:,1])\n",
        "print(\"Training data created\")\n",
        "\n",
        "# Create model - 3 layers. First layer 128 neurons, second layer 64 neurons and 3rd output layer contains number of neurons\n",
        "# equal to number of intents to predict output intent with softmax\n",
        "model = Sequential()\n",
        "model.add(Dense(128, input_shape=(len(train_x[0]),), activation='relu'))\n",
        "model.add(Dropout(0.5))\n",
        "model.add(Dense(64, activation='relu'))\n",
        "model.add(Dropout(0.5))\n",
        "model.add(Dense(len(train_y[0]), activation='softmax'))\n",
        "\n",
        "# Compile model. Stochastic gradient descent with Nesterov accelerated gradient gives good results for this model\n",
        "sgd = SGD(lr=0.01, decay=1e-6, momentum=0.9, nesterov=True)\n",
        "model.compile(loss='categorical_crossentropy', optimizer=sgd, metrics=['accuracy'])\n",
        "\n",
        "#fitting and saving the model \n",
        "hist = model.fit(np.array(train_x), np.array(train_y), epochs=200, batch_size=5, verbose=1)\n",
        "model.save('chatbot_model.h5', hist)\n",
        "\n",
        "print(\"model created\")"
      ],
      "execution_count": 0,
      "outputs": []
    },
    {
      "cell_type": "code",
      "metadata": {
        "id": "2FmZNi-dX3tr",
        "colab_type": "code",
        "colab": {},
        "cellView": "code"
      },
      "source": [
        "# @title b : Deleted drive trained files\n",
        "!rm \"/content/drive/My Drive/relinns_mohit/chatbot/chatbot_model.h5\"\n",
        "!rm \"/content/drive/My Drive/relinns_mohit/chatbot/classes.pkl\"\n",
        "!rm \"/content/drive/My Drive/relinns_mohit/chatbot/words.pkl\""
      ],
      "execution_count": 0,
      "outputs": []
    },
    {
      "cell_type": "code",
      "metadata": {
        "id": "u-GPwW-utV1K",
        "colab_type": "code",
        "colab": {},
        "cellView": "code"
      },
      "source": [
        "# @title c : Copy trained models and picklke files to drive\n",
        "!gsutil -q -m cp /content/chatbot_model.h5 /content/drive/My\\ Drive/relinns_mohit/chatbot\n",
        "!gsutil -q -m cp /content/classes.pkl /content/drive/My\\ Drive/relinns_mohit/chatbot\n",
        "!gsutil -q -m cp /content/words.pkl /content/drive/My\\ Drive/relinns_mohit/chatbot"
      ],
      "execution_count": 0,
      "outputs": []
    },
    {
      "cell_type": "markdown",
      "metadata": {
        "id": "mfgrwudFNMOu",
        "colab_type": "text"
      },
      "source": [
        "#2. Chatbot (output function)\n",
        "## combining api"
      ]
    },
    {
      "cell_type": "code",
      "metadata": {
        "id": "rTji_oKHIUAz",
        "colab_type": "code",
        "outputId": "ef2d7830-bba4-45fb-c198-a93018f11e23",
        "colab": {
          "base_uri": "https://localhost:8080/",
          "height": 84
        }
      },
      "source": [
        "%tensorflow_version 1.x\n",
        "from keras.models import load_model\n",
        "import json\n",
        "import pickle\n",
        "import numpy as np\n",
        "import random\n",
        "import sys\n",
        "sys.path.insert(0, \"/content/drive/My Drive/relinns_mohit/chatbot\")\n",
        "model = load_model(sys.path[0]+'/chatbot_model.h5',compile = False)\n",
        "intents = json.loads(open(sys.path[0]+'/intents.json').read())\n",
        "words = pickle.load(open(sys.path[0]+'/words.pkl','rb'))\n",
        "classes = pickle.load(open(sys.path[0]+'/classes.pkl','rb'))\n",
        "import nltk\n",
        "nltk.download('punkt')\n",
        "nltk.download('wordnet')\n",
        "from nltk.stem import WordNetLemmatizer\n",
        "lemmatizer = WordNetLemmatizer()"
      ],
      "execution_count": 125,
      "outputs": [
        {
          "output_type": "stream",
          "text": [
            "[nltk_data] Downloading package punkt to /root/nltk_data...\n",
            "[nltk_data]   Package punkt is already up-to-date!\n",
            "[nltk_data] Downloading package wordnet to /root/nltk_data...\n",
            "[nltk_data]   Package wordnet is already up-to-date!\n"
          ],
          "name": "stdout"
        }
      ]
    },
    {
      "cell_type": "markdown",
      "metadata": {
        "id": "c_qTuQX7HHmq",
        "colab_type": "text"
      },
      "source": [
        "##2.1 Trained Model output\n",
        "*intent manual data trained model*"
      ]
    },
    {
      "cell_type": "code",
      "metadata": {
        "id": "sx_buqjQn0Bk",
        "colab_type": "code",
        "outputId": "e4f3e61c-feba-4c23-8380-ad55a5712230",
        "colab": {
          "base_uri": "https://localhost:8080/",
          "height": 337
        },
        "cellView": "code"
      },
      "source": [
        "# title Chatbot_response { run: \"auto\" }\n",
        "def clean_up_sentence(sentence):\n",
        "    # tokenize the pattern - split words into array\n",
        "    sentence_words = nltk.word_tokenize(sentence)\n",
        "    # stem each word - create short form for word\n",
        "    sentence_words = [lemmatizer.lemmatize(word.lower()) for word in sentence_words]\n",
        "    # print(\"sentence words : \",sentence_words)\n",
        "    return sentence_words\n",
        "# return bag of words array: 0 or 1 for each word in the bag that exists in the sentence\n",
        "def bow(sentence, words, show_details=True):\n",
        "    # tokenize the pattern\n",
        "    sentence_words = clean_up_sentence(sentence)\n",
        "    # bag of words - matrix of N words, vocabulary matrix\n",
        "    bag = [0]*len(words)  \n",
        "    for s in sentence_words:\n",
        "        for i,w in enumerate(words):\n",
        "            if w == s: \n",
        "                # assign 1 if current word is in the vocabulary position\n",
        "                bag[i] = 1\n",
        "                if show_details:\n",
        "                    print (\"found in bag: %s\" % w)\n",
        "    # print(np.array(bag))\n",
        "    return(np.array(bag))\n",
        "def predict_class(sentence, model):\n",
        "    # filter out predictions below a threshold\n",
        "    p = bow(sentence, words,show_details=False)\n",
        "    res = model.predict(np.array([p]))[0]\n",
        "    ERROR_THRESHOLD = 0.25\n",
        "    results = [[i,r] for i,r in enumerate(res) if r>ERROR_THRESHOLD]\n",
        "    # sort by strength of probability\n",
        "    results.sort(key=lambda x: x[1], reverse=True)\n",
        "    return_list = []\n",
        "    for r in results:\n",
        "        return_list.append({\"intent\": classes[r[0]], \"probability\": str(r[1])})\n",
        "    # print('return_list',return_list)\n",
        "    return return_list\n",
        "def getResponse(ints, intents_json):  #not important just giving random response from predicted class\n",
        "    tag = ints[0]['intent']\n",
        "    list_of_intents = intents_json['intents']\n",
        "    for i in list_of_intents:\n",
        "        if(i['tag']== tag):\n",
        "            result = random.choice(i['responses'])\n",
        "            break\n",
        "    return result\n",
        "def chatbot_response(msg):   \n",
        "    ints = predict_class(msg, model) \n",
        "    res = getResponse(ints, intents)\n",
        "    return res,ints[0]['intent'],ints[0]['probability']      #return response and class which querry belongs\n",
        "\n",
        "chatbot_response(\"g\")"
      ],
      "execution_count": 129,
      "outputs": [
        {
          "output_type": "error",
          "ename": "IndexError",
          "evalue": "ignored",
          "traceback": [
            "\u001b[0;31m---------------------------------------------------------------------------\u001b[0m",
            "\u001b[0;31mIndexError\u001b[0m                                Traceback (most recent call last)",
            "\u001b[0;32m<ipython-input-129-b1bf58de60c4>\u001b[0m in \u001b[0;36m<module>\u001b[0;34m()\u001b[0m\n\u001b[1;32m     47\u001b[0m     \u001b[0;32mreturn\u001b[0m \u001b[0mres\u001b[0m\u001b[0;34m,\u001b[0m\u001b[0mints\u001b[0m\u001b[0;34m[\u001b[0m\u001b[0;36m0\u001b[0m\u001b[0;34m]\u001b[0m\u001b[0;34m[\u001b[0m\u001b[0;34m'intent'\u001b[0m\u001b[0;34m]\u001b[0m\u001b[0;34m,\u001b[0m\u001b[0mints\u001b[0m\u001b[0;34m[\u001b[0m\u001b[0;36m0\u001b[0m\u001b[0;34m]\u001b[0m\u001b[0;34m[\u001b[0m\u001b[0;34m'probability'\u001b[0m\u001b[0;34m]\u001b[0m      \u001b[0;31m#return response and class which querry belongs\u001b[0m\u001b[0;34m\u001b[0m\u001b[0;34m\u001b[0m\u001b[0m\n\u001b[1;32m     48\u001b[0m \u001b[0;34m\u001b[0m\u001b[0m\n\u001b[0;32m---> 49\u001b[0;31m \u001b[0mchatbot_response\u001b[0m\u001b[0;34m(\u001b[0m\u001b[0;34m\"g\"\u001b[0m\u001b[0;34m)\u001b[0m\u001b[0;34m\u001b[0m\u001b[0;34m\u001b[0m\u001b[0m\n\u001b[0m",
            "\u001b[0;32m<ipython-input-129-b1bf58de60c4>\u001b[0m in \u001b[0;36mchatbot_response\u001b[0;34m(msg)\u001b[0m\n\u001b[1;32m     44\u001b[0m \u001b[0;32mdef\u001b[0m \u001b[0mchatbot_response\u001b[0m\u001b[0;34m(\u001b[0m\u001b[0mmsg\u001b[0m\u001b[0;34m)\u001b[0m\u001b[0;34m:\u001b[0m\u001b[0;34m\u001b[0m\u001b[0;34m\u001b[0m\u001b[0m\n\u001b[1;32m     45\u001b[0m     \u001b[0mints\u001b[0m \u001b[0;34m=\u001b[0m \u001b[0mpredict_class\u001b[0m\u001b[0;34m(\u001b[0m\u001b[0mmsg\u001b[0m\u001b[0;34m,\u001b[0m \u001b[0mmodel\u001b[0m\u001b[0;34m)\u001b[0m\u001b[0;34m\u001b[0m\u001b[0;34m\u001b[0m\u001b[0m\n\u001b[0;32m---> 46\u001b[0;31m     \u001b[0mres\u001b[0m \u001b[0;34m=\u001b[0m \u001b[0mgetResponse\u001b[0m\u001b[0;34m(\u001b[0m\u001b[0mints\u001b[0m\u001b[0;34m,\u001b[0m \u001b[0mintents\u001b[0m\u001b[0;34m)\u001b[0m\u001b[0;34m\u001b[0m\u001b[0;34m\u001b[0m\u001b[0m\n\u001b[0m\u001b[1;32m     47\u001b[0m     \u001b[0;32mreturn\u001b[0m \u001b[0mres\u001b[0m\u001b[0;34m,\u001b[0m\u001b[0mints\u001b[0m\u001b[0;34m[\u001b[0m\u001b[0;36m0\u001b[0m\u001b[0;34m]\u001b[0m\u001b[0;34m[\u001b[0m\u001b[0;34m'intent'\u001b[0m\u001b[0;34m]\u001b[0m\u001b[0;34m,\u001b[0m\u001b[0mints\u001b[0m\u001b[0;34m[\u001b[0m\u001b[0;36m0\u001b[0m\u001b[0;34m]\u001b[0m\u001b[0;34m[\u001b[0m\u001b[0;34m'probability'\u001b[0m\u001b[0;34m]\u001b[0m      \u001b[0;31m#return response and class which querry belongs\u001b[0m\u001b[0;34m\u001b[0m\u001b[0;34m\u001b[0m\u001b[0m\n\u001b[1;32m     48\u001b[0m \u001b[0;34m\u001b[0m\u001b[0m\n",
            "\u001b[0;32m<ipython-input-129-b1bf58de60c4>\u001b[0m in \u001b[0;36mgetResponse\u001b[0;34m(ints, intents_json)\u001b[0m\n\u001b[1;32m     39\u001b[0m     \u001b[0;32mfor\u001b[0m \u001b[0mi\u001b[0m \u001b[0;32min\u001b[0m \u001b[0mlist_of_intents\u001b[0m\u001b[0;34m:\u001b[0m\u001b[0;34m\u001b[0m\u001b[0;34m\u001b[0m\u001b[0m\n\u001b[1;32m     40\u001b[0m         \u001b[0;32mif\u001b[0m\u001b[0;34m(\u001b[0m\u001b[0mi\u001b[0m\u001b[0;34m[\u001b[0m\u001b[0;34m'tag'\u001b[0m\u001b[0;34m]\u001b[0m\u001b[0;34m==\u001b[0m \u001b[0mtag\u001b[0m\u001b[0;34m)\u001b[0m\u001b[0;34m:\u001b[0m\u001b[0;34m\u001b[0m\u001b[0;34m\u001b[0m\u001b[0m\n\u001b[0;32m---> 41\u001b[0;31m             \u001b[0mresult\u001b[0m \u001b[0;34m=\u001b[0m \u001b[0mrandom\u001b[0m\u001b[0;34m.\u001b[0m\u001b[0mchoice\u001b[0m\u001b[0;34m(\u001b[0m\u001b[0mi\u001b[0m\u001b[0;34m[\u001b[0m\u001b[0;34m'responses'\u001b[0m\u001b[0;34m]\u001b[0m\u001b[0;34m)\u001b[0m\u001b[0;34m\u001b[0m\u001b[0;34m\u001b[0m\u001b[0m\n\u001b[0m\u001b[1;32m     42\u001b[0m             \u001b[0;32mbreak\u001b[0m\u001b[0;34m\u001b[0m\u001b[0;34m\u001b[0m\u001b[0m\n\u001b[1;32m     43\u001b[0m     \u001b[0;32mreturn\u001b[0m \u001b[0mresult\u001b[0m\u001b[0;34m\u001b[0m\u001b[0;34m\u001b[0m\u001b[0m\n",
            "\u001b[0;32m/usr/lib/python3.6/random.py\u001b[0m in \u001b[0;36mchoice\u001b[0;34m(self, seq)\u001b[0m\n\u001b[1;32m    258\u001b[0m             \u001b[0mi\u001b[0m \u001b[0;34m=\u001b[0m \u001b[0mself\u001b[0m\u001b[0;34m.\u001b[0m\u001b[0m_randbelow\u001b[0m\u001b[0;34m(\u001b[0m\u001b[0mlen\u001b[0m\u001b[0;34m(\u001b[0m\u001b[0mseq\u001b[0m\u001b[0;34m)\u001b[0m\u001b[0;34m)\u001b[0m\u001b[0;34m\u001b[0m\u001b[0;34m\u001b[0m\u001b[0m\n\u001b[1;32m    259\u001b[0m         \u001b[0;32mexcept\u001b[0m \u001b[0mValueError\u001b[0m\u001b[0;34m:\u001b[0m\u001b[0;34m\u001b[0m\u001b[0;34m\u001b[0m\u001b[0m\n\u001b[0;32m--> 260\u001b[0;31m             \u001b[0;32mraise\u001b[0m \u001b[0mIndexError\u001b[0m\u001b[0;34m(\u001b[0m\u001b[0;34m'Cannot choose from an empty sequence'\u001b[0m\u001b[0;34m)\u001b[0m \u001b[0;32mfrom\u001b[0m \u001b[0;32mNone\u001b[0m\u001b[0;34m\u001b[0m\u001b[0;34m\u001b[0m\u001b[0m\n\u001b[0m\u001b[1;32m    261\u001b[0m         \u001b[0;32mreturn\u001b[0m \u001b[0mseq\u001b[0m\u001b[0;34m[\u001b[0m\u001b[0mi\u001b[0m\u001b[0;34m]\u001b[0m\u001b[0;34m\u001b[0m\u001b[0;34m\u001b[0m\u001b[0m\n\u001b[1;32m    262\u001b[0m \u001b[0;34m\u001b[0m\u001b[0m\n",
            "\u001b[0;31mIndexError\u001b[0m: Cannot choose from an empty sequence"
          ]
        }
      ]
    },
    {
      "cell_type": "markdown",
      "metadata": {
        "id": "arvfUQMuX--4",
        "colab_type": "text"
      },
      "source": [
        "##2.2 web result based api output\n",
        "*WHen manual trained model failed to anser this funcion run to get online answer for client querry*"
      ]
    },
    {
      "cell_type": "code",
      "metadata": {
        "id": "fJGyG5_VWXOW",
        "colab_type": "code",
        "outputId": "acdff526-b214-46ec-dab6-1c1a12b498bc",
        "colab": {
          "base_uri": "https://localhost:8080/",
          "height": 406
        }
      },
      "source": [
        "import requests\n",
        "import string\n",
        "from lxml import html\n",
        "from googlesearch import search\n",
        "from bs4 import BeautifulSoup\n",
        "block_url=[\"youtube\"]\n",
        "# import time\n",
        "def chatbot_query(query, index=0):  #google search\n",
        "    fallback = 'Sorry, I cannot think of a reply for that.'\n",
        "    result = ''\n",
        "    try:\n",
        "        search_result_list = list(search(query, tld=\"co.in\", num=10, stop=3, pause=1))\n",
        "        print(search_result_list)\n",
        "        page = requests.get(search_result_list[index])\n",
        "        tree = html.fromstring(page.content)\n",
        "        soup = BeautifulSoup(page.content, features=\"lxml\")\n",
        "        article_text = ''\n",
        "        article = soup.findAll('p')  #all paragraph\n",
        "        # print(\"article->\",article)\n",
        "        for element in article:\n",
        "            print(element)\n",
        "            article_text += '\\n' + ''.join(element.findAll(text = True))\n",
        "        article_text = article_text.replace('\\n', '')\n",
        "        first_sentence = article_text.split('.')\n",
        "        first_sentence = first_sentence[0].split('?')[0]\n",
        "        chars_without_whitespace = first_sentence.translate(\n",
        "            { ord(c): None for c in string.whitespace }\n",
        "        )\n",
        "        if len(chars_without_whitespace) > 0:\n",
        "            result = first_sentence\n",
        "        else:\n",
        "            result = fallback\n",
        "        return result\n",
        "    except:\n",
        "        if len(result) == 0: result = fallback\n",
        "        return result       \n",
        "chatbot_query(\"#\")"
      ],
      "execution_count": 128,
      "outputs": [
        {
          "output_type": "stream",
          "text": [
            "['https://commons.wikimedia.org/wiki/File:Number_sign.svg?sa=X&ved=2ahUKEwizt73u1svoAhVjFTQIHZkvA9cQ9QF6BAgGEAI', 'https://en.wikipedia.org/wiki/Number_sign', 'https://en.wikipedia.org/wiki/Hashtag']\n",
            "<p><a class=\"internal\" href=\"https://upload.wikimedia.org/wikipedia/commons/6/63/Number_sign.svg\" title=\"Number sign.svg\">Original file</a> ‎<span class=\"fileInfo\">(SVG file, nominally 153 × 159 pixels, file size: 768 bytes)</span>\n",
            "</p>\n",
            "<p><b>Number sign <big>#</big></b> (Unicode glyph U+0023), in Arial Font <br/>\n",
            "<i>Not</i> equal to the music <b>sharp sign <a href=\"/wiki/File:Sharp.svg\" title=\"File:Sharp.svg\"><big>♯</big></a></b> (Unicode glyph U+266F)\n",
            "</p>\n",
            "<p><img alt=\"Dialog-warning.svg\" data-file-height=\"48\" data-file-width=\"48\" decoding=\"async\" height=\"22\" src=\"https://upload.wikimedia.org/wikipedia/commons/thumb/6/6e/Dialog-warning.svg/22px-Dialog-warning.svg.png\" srcset=\"https://upload.wikimedia.org/wikipedia/commons/thumb/6/6e/Dialog-warning.svg/33px-Dialog-warning.svg.png 1.5x, https://upload.wikimedia.org/wikipedia/commons/thumb/6/6e/Dialog-warning.svg/44px-Dialog-warning.svg.png 2x\" width=\"22\"/> <small>Please check the source to verify that this is correct. In particular, note that publication on the Internet, like publication by any other means, does not in itself imply permission to redistribute. Files without valid permission should be tagged with <tt>{{subst:<a href=\"/wiki/Template:Npd\" title=\"Template:Npd\">npd</a>}}</tt>.</small>\n",
            "</p>\n",
            "<p><small>Usage notes:\n",
            "</small></p>\n",
            "<p><span class=\"licensetpl_link\" style=\"display: none\">//commons.wikimedia.org/wiki/File:Number_sign.svg</span>\n",
            "</p>\n",
            "<p>Click on a date/time to view the file as it appeared at that time.\n",
            "</p>\n",
            "<p id=\"mw-imagepage-upload-disallowed\">You cannot overwrite this file.</p>\n",
            "<p>The following 3 pages use this file:\n",
            "</p>\n",
            "<p>The following other wikis use this file:\n",
            "</p>\n",
            "<p>View <a href=\"/wiki/Special:GlobalUsage/Number_sign.svg\" title=\"Special:GlobalUsage/Number sign.svg\">more global usage</a> of this file.\n",
            "</p>\n"
          ],
          "name": "stdout"
        },
        {
          "output_type": "execute_result",
          "data": {
            "text/plain": [
              "'Original file \\u200e(SVG file, nominally 153 × 159 pixels, file size: 768 bytes)Number sign # (Unicode glyph U+0023), in Arial Font Not equal to the music sharp sign ♯ (Unicode glyph U+266F) Please check the source to verify that this is correct'"
            ]
          },
          "metadata": {
            "tags": []
          },
          "execution_count": 128
        }
      ]
    },
    {
      "cell_type": "markdown",
      "metadata": {
        "id": "CB25gXcCaHqX",
        "colab_type": "text"
      },
      "source": [
        "## 2.3 wikipedia api  (only good for specific word)"
      ]
    },
    {
      "cell_type": "code",
      "metadata": {
        "id": "c02PIAXZikW6",
        "colab_type": "code",
        "colab": {}
      },
      "source": [
        "!pip install wikipedia  "
      ],
      "execution_count": 0,
      "outputs": []
    },
    {
      "cell_type": "code",
      "metadata": {
        "id": "giySpdXTaGd9",
        "colab_type": "code",
        "colab": {}
      },
      "source": [
        "#wikipedia \n",
        "import wikipedia\n",
        "def wiki_suggest(query):\n",
        "  return(wikipedia.suggest(query))\n",
        "\n",
        "def wiki_search(query):\n",
        "  return(wikipedia.search(query, results=3))\n",
        "\n",
        "def wiki_summary(query):\n",
        "  return(wikipedia.summary(query, sentences=2))"
      ],
      "execution_count": 0,
      "outputs": []
    },
    {
      "cell_type": "code",
      "metadata": {
        "id": "FKzxI-RTJgsM",
        "colab_type": "code",
        "colab": {}
      },
      "source": [
        "query=\"whats the weather\""
      ],
      "execution_count": 0,
      "outputs": []
    },
    {
      "cell_type": "code",
      "metadata": {
        "id": "c7MaPAPBLCeG",
        "colab_type": "code",
        "colab": {
          "base_uri": "https://localhost:8080/",
          "height": 70
        },
        "outputId": "9fea5030-3fa2-4e42-e67b-7e9db546440b"
      },
      "source": [
        "chatbot_query(query)"
      ],
      "execution_count": 105,
      "outputs": [
        {
          "output_type": "stream",
          "text": [
            "['https://www.youtube.com/watch?v=KUSbazn3STo', 'https://www.youtube.com/watch?v=Jn7uAsLWXpk', 'https://www.youtube.com/watch?v=rD6FRDd9Hew&vl=en']\n"
          ],
          "name": "stdout"
        },
        {
          "output_type": "execute_result",
          "data": {
            "text/plain": [
              "'Sorry, I cannot think of a reply for that.'"
            ]
          },
          "metadata": {
            "tags": []
          },
          "execution_count": 105
        }
      ]
    },
    {
      "cell_type": "code",
      "metadata": {
        "id": "5tM0dkRiX1q9",
        "colab_type": "code",
        "colab": {}
      },
      "source": [
        "wiki_suggest(query)"
      ],
      "execution_count": 0,
      "outputs": []
    },
    {
      "cell_type": "code",
      "metadata": {
        "id": "nhQiS4TrJUDF",
        "colab_type": "code",
        "colab": {
          "base_uri": "https://localhost:8080/",
          "height": 34
        },
        "outputId": "988df808-c58c-44a5-ade2-bfcdc2bb2110"
      },
      "source": [
        "wiki_search(query)"
      ],
      "execution_count": 107,
      "outputs": [
        {
          "output_type": "execute_result",
          "data": {
            "text/plain": [
              "['Weather', 'Weather forecasting', 'The Weather Channel']"
            ]
          },
          "metadata": {
            "tags": []
          },
          "execution_count": 107
        }
      ]
    },
    {
      "cell_type": "code",
      "metadata": {
        "id": "lX-VkPP-j-1E",
        "colab_type": "code",
        "outputId": "60280997-6ac8-4cfc-9469-c0adfb20c64b",
        "colab": {
          "base_uri": "https://localhost:8080/",
          "height": 54
        }
      },
      "source": [
        " # produce error if wuery is not good\n",
        " wiki_summary(query)    # (wiki_search) -> then (wiki_summary) will work\n"
      ],
      "execution_count": 108,
      "outputs": [
        {
          "output_type": "execute_result",
          "data": {
            "text/plain": [
              "'Weather is the state of the atmosphere, describing for example the degree to which it is hot or cold, wet or dry, calm or stormy, clear or cloudy.  Most weather phenomena occur in the lowest level of the atmosphere, the troposphere, just below the stratosphere.'"
            ]
          },
          "metadata": {
            "tags": []
          },
          "execution_count": 108
        }
      ]
    },
    {
      "cell_type": "markdown",
      "metadata": {
        "id": "i5faoI4gRTye",
        "colab_type": "text"
      },
      "source": [
        "##2.4 jokes api\n"
      ]
    },
    {
      "cell_type": "code",
      "metadata": {
        "id": "9dDqq_yOgiYS",
        "colab_type": "code",
        "colab": {
          "base_uri": "https://localhost:8080/",
          "height": 104
        },
        "outputId": "80700ff0-1043-495b-b71e-509c4ac566e2"
      },
      "source": [
        "! pip install pyjokes     #technical joke\n",
        "# !pip install axju-jokes  #integrate later\n",
        "import pyjokes \n",
        "def jokes():\n",
        "  return(pyjokes.get_joke())"
      ],
      "execution_count": 86,
      "outputs": [
        {
          "output_type": "stream",
          "text": [
            "Collecting pyjokes\n",
            "  Downloading https://files.pythonhosted.org/packages/6a/0e/4a824a4fc93b9725a985fcea7115927b72f2ca6966008300a982cb869720/pyjokes-0.6.0-py2.py3-none-any.whl\n",
            "Installing collected packages: pyjokes\n",
            "Successfully installed pyjokes-0.6.0\n"
          ],
          "name": "stdout"
        }
      ]
    },
    {
      "cell_type": "markdown",
      "metadata": {
        "id": "OP_BnFtqgxUx",
        "colab_type": "text"
      },
      "source": [
        "#3. Output"
      ]
    },
    {
      "cell_type": "code",
      "metadata": {
        "id": "B-Hk6GmCKU9B",
        "colab_type": "code",
        "cellView": "code",
        "colab": {}
      },
      "source": [
        "#@title Combined api Output\n",
        "import time\n",
        "wiki_searched=[]\n",
        "yes=('yes','y','yeah','sure','ys','ya','yup','yo')\n",
        "while True:\n",
        "  s = str(input(\"You :  \"))\n",
        "  if s.lower() in (\"bye\",\"bi\",\"exit\",\"goodbye\"):\n",
        "    print(\"Thanks for chatting with me\")\n",
        "    break\n",
        "  else:\n",
        "    response,clas,accuracy = chatbot_response(s)\n",
        "    # if response == \"Sorry, can't understand you\" :\n",
        "    if clas in ('abuse','noanswer'):      \n",
        "\n",
        "        if wiki_suggest(s) is not None:\n",
        "          print(\"Bot :  Are you looking for :\",wiki_suggest(s)),\"?\"\n",
        "          \n",
        "          if input(\"You :  \").lower() in yes:\n",
        "            print(\"Bot : \",wiki_summary(str(wiki_suggest(s))))\n",
        "          else:\n",
        "            print(\"Bot : Hold On ! Maybe this :\",chatbot_query(s)) \n",
        "        \n",
        "        else :\n",
        "          print(\"Bot : \",chatbot_query(s)) \n",
        "    \n",
        "    elif clas in ('options'):\n",
        "      print(\"Bot : \",response)\n",
        "      print(\"Bot : \",\"Want to know more about Me\") \n",
        "      if input(\"You : \").lower() in yes:\n",
        "        print(\"chatbot \")\n",
        "\n",
        "    else:\n",
        "      print(\"Bot : \",response)\n",
        "    while clas in ('jokes'): \n",
        "      print(jokes(),\"\\n\")\n",
        "      print(\"Bot : Do you want more ?\" )\n",
        "      if input(\"You :  \").lower() in yes:\n",
        "        continue\n",
        "      else:\n",
        "        break"
      ],
      "execution_count": 0,
      "outputs": []
    },
    {
      "cell_type": "markdown",
      "metadata": {
        "id": "8mNOsTTosHOj",
        "colab_type": "text"
      },
      "source": [
        ""
      ]
    },
    {
      "cell_type": "markdown",
      "metadata": {
        "id": "XmxgCpoLsHLu",
        "colab_type": "text"
      },
      "source": [
        ""
      ]
    },
    {
      "cell_type": "markdown",
      "metadata": {
        "id": "iHytqN58sHG4",
        "colab_type": "text"
      },
      "source": [
        ""
      ]
    },
    {
      "cell_type": "markdown",
      "metadata": {
        "id": "KyY5A3lvsHEB",
        "colab_type": "text"
      },
      "source": [
        ""
      ]
    },
    {
      "cell_type": "markdown",
      "metadata": {
        "id": "2CIYxsKsmOFC",
        "colab_type": "text"
      },
      "source": [
        "#* Extra things that will the part of above tabs"
      ]
    },
    {
      "cell_type": "markdown",
      "metadata": {
        "id": "j6vDpv3_-xiD",
        "colab_type": "text"
      },
      "source": [
        "### auto suggestion and completion"
      ]
    },
    {
      "cell_type": "code",
      "metadata": {
        "id": "270YWNzcf4xm",
        "colab_type": "code",
        "colab": {
          "base_uri": "https://localhost:8080/",
          "height": 54
        },
        "outputId": "3989fe7b-1deb-4317-9f49-604c278b43e5"
      },
      "source": [
        "import requests, json\n",
        "URL=\"http://suggestqueries.google.com/complete/search?client=firefox&q=Hel Wor\"\n",
        "headers = {'User-agent':'Mozilla/5.0'}\n",
        "response = requests.get(URL, headers=headers)\n",
        "result = json.loads(response.content.decode('utf-8'))\n",
        "print(result)"
      ],
      "execution_count": 38,
      "outputs": [
        {
          "output_type": "stream",
          "text": [
            "['Hel Wor', ['hel words', 'hel worship', 'hel words start', 'help word', 'help works', 'help worldwide', 'help words with friends', 'help wordpress', 'help word origin', 'help world hunger']]\n"
          ],
          "name": "stdout"
        }
      ]
    },
    {
      "cell_type": "markdown",
      "metadata": {
        "id": "Qh_XL5TTql0W",
        "colab_type": "text"
      },
      "source": [
        "### wordcloud"
      ]
    },
    {
      "cell_type": "code",
      "metadata": {
        "id": "BUGhZNPxrOak",
        "colab_type": "code",
        "colab": {
          "base_uri": "https://localhost:8080/",
          "height": 50
        },
        "outputId": "5facd022-b8e8-42ba-d8cc-4f48d683d43f"
      },
      "source": [
        "import json\n",
        "nltk.download('stopwords')\n",
        "intents = json.loads(open('/content/drive/My Drive/relinns_mohit/chatbot/intents.json').read())"
      ],
      "execution_count": 40,
      "outputs": [
        {
          "output_type": "stream",
          "text": [
            "[nltk_data] Downloading package stopwords to /root/nltk_data...\n",
            "[nltk_data]   Unzipping corpora/stopwords.zip.\n"
          ],
          "name": "stdout"
        }
      ]
    },
    {
      "cell_type": "code",
      "metadata": {
        "id": "WA8GHvo1soLs",
        "colab_type": "code",
        "colab": {}
      },
      "source": [
        "listt=[]\n",
        "for i in intents[\"intents\"]:\n",
        "  for j in i[\"responses\"]:\n",
        "    listt.append(j)"
      ],
      "execution_count": 0,
      "outputs": []
    },
    {
      "cell_type": "code",
      "metadata": {
        "id": "T6ztso74BvLg",
        "colab_type": "code",
        "colab": {
          "base_uri": "https://localhost:8080/",
          "height": 457
        },
        "outputId": "3ef04f04-1ce2-4828-83df-8fe3f039add6"
      },
      "source": [
        "listt"
      ],
      "execution_count": 73,
      "outputs": [
        {
          "output_type": "execute_result",
          "data": {
            "text/plain": [
              "['Well i am a chatbot , A chatbot is a conversational user interface that will stimulate conversation with users provide customer support, and solves customer queries within no time.Are there any contracts for using this platform',\n",
              " 'We do offer a free chatbot in our Baby plan which comes with 60 FREE interactions per month, there is no need to pay or provide credit/debit card details, you can simply avail it by signing up',\n",
              " 'BotPenguin understands that your privacy is paramount, it values and protects your data. BotPenguin is GDPR complaint to meet international standards of data privacy. It follows strict guidelines and policies to safeguard collected data through lead generation and customer support',\n",
              " 'BotPenguin understands that your privacy is paramount, it values and protects your data. BotPenguin is GDPR complaint to meet international standards of data privacy. It follows strict guidelines and policies to safeguard collected data through lead generation and customer support. You can review our privacy policy at following url : https://botpenguin.com/privacy-policy',\n",
              " 'Hello',\n",
              " 'Not many people say hello to robots. I do appreciate it',\n",
              " 'Good to see you again',\n",
              " 'Hi there, how can I help?',\n",
              " \"Sorry, can't understand you\",\n",
              " 'See you!',\n",
              " 'Have a nice day',\n",
              " 'Bye! Come back again soon',\n",
              " 'Happy to help!',\n",
              " 'Any time!',\n",
              " 'My pleasure',\n",
              " \"Sorry, can't understand you\",\n",
              " 'Excuse me ?',\n",
              " ' BotPenguin essentially answers queries, generates leads, and even reserves appointments. It is basically a chatbot designed to take your business to new heights. It is an AI-powered chatbot platform that allows you to quickly and easily build unbelievable chatbots to communicate or engage your customers on the website, Facebook Messenger and many other similar platforms',\n",
              " 'Go to the website, click on the Get Started FREE  button on the right-hand side of the webpage. Then, click on the Sign-Up and fill in your details',\n",
              " 'Well ! here is a joke for you : ',\n",
              " 'Please reach us at contact@botpenguin.com for any query,help or business needs',\n",
              " 'The results of my latest structural analysis say I am solid as a rock',\n",
              " 'Great Sergeant',\n",
              " 'I was born in a meeting,at first i was just a rough concept and Now i am out in World !',\n",
              " 'At First i was just a idea then a bunch of people put there head together and now her i am']"
            ]
          },
          "metadata": {
            "tags": []
          },
          "execution_count": 73
        }
      ]
    },
    {
      "cell_type": "code",
      "metadata": {
        "id": "qO_Pz47Nqkf0",
        "colab_type": "code",
        "colab": {
          "base_uri": "https://localhost:8080/",
          "height": 231
        },
        "outputId": "18de2959-f13d-4647-c0fd-23d38e3912b0"
      },
      "source": [
        "from nltk.corpus import stopwords\n",
        "from wordcloud import WordCloud, STOPWORDS\n",
        "stop = set(stopwords.words('english'))\n",
        "\n",
        "import matplotlib.pyplot as plt\n",
        "\n",
        "def cloud(text):\n",
        "    # import pdb;pdb.set_trace()\n",
        "    wordcloud = WordCloud(background_color=\"blue\",stopwords=stop).generate(\" \".join([i for i in text]))\n",
        "    print(wordcloud)\n",
        "    plt.imshow(wordcloud)\n",
        "    plt.axis(\"off\")\n",
        "    plt.title(\"Chat Bot Response\")\n",
        "\n",
        "cloud(listt)"
      ],
      "execution_count": 76,
      "outputs": [
        {
          "output_type": "stream",
          "text": [
            "<wordcloud.wordcloud.WordCloud object at 0x7f02bd0c8a90>\n"
          ],
          "name": "stdout"
        },
        {
          "output_type": "display_data",
          "data": {
            "image/png": "[encoded data removed]",
            "text/plain": [
              "<Figure size 432x288 with 1 Axes>"
            ]
          },
          "metadata": {
            "tags": []
          }
        }
      ]
    },
    {
      "cell_type": "code",
      "metadata": {
        "id": "kj47vnZzrCj-",
        "colab_type": "code",
        "colab": {
          "base_uri": "https://localhost:8080/",
          "height": 286
        },
        "outputId": "75b29e4f-15af-441c-8beb-282c63dbcbdf"
      },
      "source": [
        "!nvidia-smi"
      ],
      "execution_count": 77,
      "outputs": [
        {
          "output_type": "stream",
          "text": [
            "Thu Apr  2 08:45:41 2020       \n",
            "+-----------------------------------------------------------------------------+\n",
            "| NVIDIA-SMI 440.64.00    Driver Version: 418.67       CUDA Version: 10.1     |\n",
            "|-------------------------------+----------------------+----------------------+\n",
            "| GPU  Name        Persistence-M| Bus-Id        Disp.A | Volatile Uncorr. ECC |\n",
            "| Fan  Temp  Perf  Pwr:Usage/Cap|         Memory-Usage | GPU-Util  Compute M. |\n",
            "|===============================+======================+======================|\n",
            "|   0  Tesla P100-PCIE...  Off  | 00000000:00:04.0 Off |                    0 |\n",
            "| N/A   47C    P0    34W / 250W |    389MiB / 16280MiB |      0%      Default |\n",
            "+-------------------------------+----------------------+----------------------+\n",
            "                                                                               \n",
            "+-----------------------------------------------------------------------------+\n",
            "| Processes:                                                       GPU Memory |\n",
            "|  GPU       PID   Type   Process name                             Usage      |\n",
            "|=============================================================================|\n",
            "+-----------------------------------------------------------------------------+\n"
          ],
          "name": "stdout"
        }
      ]
    },
    {
      "cell_type": "code",
      "metadata": {
        "id": "uFZ3Q3uEETkS",
        "colab_type": "code",
        "colab": {}
      },
      "source": [
        ""
      ],
      "execution_count": 0,
      "outputs": []
    },
    {
      "cell_type": "code",
      "metadata": {
        "id": "wU68Wd1GRIlW",
        "colab_type": "code",
        "colab": {
          "base_uri": "https://localhost:8080/",
          "height": 198
        },
        "outputId": "8678a020-fe2b-4e13-d35c-dae6fb221a84"
      },
      "source": [
        "requests('http://suggestqueries.google.com/complete/search?client=chrome&q=what is sexx&callback=callback')"
      ],
      "execution_count": 110,
      "outputs": [
        {
          "output_type": "stream",
          "text": [
            "ERROR! Session/line number was not unique in database. History logging moved to new session 61\n"
          ],
          "name": "stdout"
        },
        {
          "output_type": "error",
          "ename": "TypeError",
          "evalue": "ignored",
          "traceback": [
            "\u001b[0;31m---------------------------------------------------------------------------\u001b[0m",
            "\u001b[0;31mTypeError\u001b[0m                                 Traceback (most recent call last)",
            "\u001b[0;32m<ipython-input-110-43b0ec9ae2bf>\u001b[0m in \u001b[0;36m<module>\u001b[0;34m()\u001b[0m\n\u001b[0;32m----> 1\u001b[0;31m \u001b[0mrequests\u001b[0m\u001b[0;34m(\u001b[0m\u001b[0;34m'http://suggestqueries.google.com/complete/search?client=chrome&q=what is sexx&callback=callback'\u001b[0m\u001b[0;34m)\u001b[0m\u001b[0;34m\u001b[0m\u001b[0;34m\u001b[0m\u001b[0m\n\u001b[0m",
            "\u001b[0;31mTypeError\u001b[0m: 'module' object is not callable"
          ]
        }
      ]
    },
    {
      "cell_type": "code",
      "metadata": {
        "id": "8FjYgAPeRPeo",
        "colab_type": "code",
        "colab": {}
      },
      "source": [
        ""
      ],
      "execution_count": 0,
      "outputs": []
    }
  ]
}